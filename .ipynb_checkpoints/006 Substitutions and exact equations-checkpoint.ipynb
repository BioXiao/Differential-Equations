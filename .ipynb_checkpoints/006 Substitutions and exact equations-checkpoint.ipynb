{
 "cells": [
  {
   "cell_type": "markdown",
   "metadata": {},
   "source": [
    "<a rel=\"license\" href=\"http://creativecommons.org/licenses/by-nc/4.0/\"><img alt=\"Creative Commons License\" style=\"border-width:0\" src=\"https://i.creativecommons.org/l/by-nc/4.0/88x31.png\" /></a><br /><span xmlns:dct=\"http://purl.org/dc/terms/\" property=\"dct:title\">Differential equations</span> by <span xmlns:cc=\"http://creativecommons.org/ns#\" property=\"cc:attributionName\">Dr Juan H Klopper</span> is licensed under a <a rel=\"license\" href=\"http://creativecommons.org/licenses/by-nc/4.0/\">Creative Commons Attribution-NonCommercial 4.0 International License</a>."
   ]
  },
  {
   "cell_type": "code",
   "execution_count": 4,
   "metadata": {
    "collapsed": false
   },
   "outputs": [
    {
     "data": {
      "text/html": [
       "<style>\n",
       "    @font-face {\n",
       "        font-family: \"Computer Modern\";\n",
       "        src: url('http://mirrors.ctan.org/fonts/cm-unicode/fonts/otf/cmunss.otf');\n",
       "    }\n",
       "    div.cell{\n",
       "        width: 90%;\n",
       "/*        margin-left:auto;*/\n",
       "/*        margin-right:auto;*/\n",
       "    }\n",
       "    ul {\n",
       "        line-height: 145%;\n",
       "        font-size: 90%;\n",
       "    }\n",
       "    li {\n",
       "        margin-bottom: 1em;\n",
       "    }\n",
       "    h1 {\n",
       "        font-family: Helvetica, serif;\n",
       "        color: rgb(0, 80, 120);\n",
       "    }\n",
       "    h2 {\n",
       "        color: rgb(0,100,110);\n",
       "    }\n",
       "    h3 {\n",
       "        color: rgb(94,127,192);\n",
       "    }\n",
       "    div.text_cell_render{\n",
       "        font-family: Computer Modern, \"Helvetica Neue\", Arial, Helvetica, Geneva, sans-serif;\n",
       "        line-height: 145%;\n",
       "        font-size: 130%;\n",
       "        width: 90%;\n",
       "        margin-left:auto;\n",
       "        margin-right:auto;\n",
       "    }\n",
       "    .CodeMirror{\n",
       "            font-family: \"Source Code Pro\", source-code-pro,Consolas, monospace;\n",
       "    }\n",
       "/*    .prompt{\n",
       "        display: None;\n",
       "    }*/\n",
       "    .text_cell_render h5 {\n",
       "        font-weight: 300;\n",
       "        font-size: 16pt;\n",
       "        color: #4057A1;\n",
       "        font-style: italic;\n",
       "        margin-bottom: 0.5em;\n",
       "        margin-top: 0.5em;\n",
       "        display: block;\n",
       "    }\n",
       "\n",
       "    .warning{\n",
       "        color: rgb( 240, 20, 20 )\n",
       "        }\n",
       "</style>\n",
       "<script>\n",
       "    MathJax.Hub.Config({\n",
       "                        TeX: {\n",
       "                           extensions: [\"AMSmath.js\"]\n",
       "                           },\n",
       "                tex2jax: {\n",
       "                    inlineMath: [ ['$','$'], [\"\\\\(\",\"\\\\)\"] ],\n",
       "                    displayMath: [ ['$$','$$'], [\"\\\\[\",\"\\\\]\"] ]\n",
       "                },\n",
       "                displayAlign: 'center', // Change this to 'center' to center equations.\n",
       "                \"HTML-CSS\": {\n",
       "                    styles: {'.MathJax_Display': {\"margin\": 4}}\n",
       "                }\n",
       "        });\n",
       "</script>"
      ],
      "text/plain": [
       "<IPython.core.display.HTML object>"
      ]
     },
     "execution_count": 4,
     "metadata": {},
     "output_type": "execute_result"
    }
   ],
   "source": [
    "from IPython.core.display import HTML, Image\n",
    "css_file = 'custom.css'\n",
    "HTML(open(css_file, 'r').read())"
   ]
  },
  {
   "cell_type": "code",
   "execution_count": 1,
   "metadata": {
    "collapsed": true
   },
   "outputs": [],
   "source": [
    "from sympy import init_printing # Latex printing to screen\n",
    "from sympy import symbols, Function, dsolve # Sympy functions\n",
    "#import matplotlib.pyplot as plt # The plotting library\n",
    "from warnings import filterwarnings # Ignoring ugly pink warnings"
   ]
  },
  {
   "cell_type": "code",
   "execution_count": 2,
   "metadata": {
    "collapsed": true
   },
   "outputs": [],
   "source": [
    "init_printing(use_latex = 'mathjax')\n",
    "filterwarnings('ignore')\n",
    "%matplotlib inline"
   ]
  },
  {
   "cell_type": "markdown",
   "metadata": {
    "collapsed": true
   },
   "source": [
    "# Substitution methods and exact equations"
   ]
  },
  {
   "cell_type": "markdown",
   "metadata": {},
   "source": [
    "## In this lesson\n",
    "- [Techniques for solving ODEs](#Techniques-for-solving-ODEs)\n",
    "- [A new technique](#A-new-technique)\n",
    "- [Homogeneous equations](#Homogeneous-equations)\n",
    "- [](#)\n",
    "- [](#)\n",
    "- [](#)\n",
    "- [](#)\n",
    "- [](#)\n",
    "- [](#)"
   ]
  },
  {
   "cell_type": "markdown",
   "metadata": {},
   "source": [
    "## Techniques for solving ODEs"
   ]
  },
  {
   "cell_type": "markdown",
   "metadata": {},
   "source": [
    "We now know two ways of solving ODE's analytically.  The first involves separating variables and the second involves calculating an integrating factor."
   ]
  },
  {
   "cell_type": "markdown",
   "metadata": {},
   "source": [
    "Not all equations are in a form that allows for these two techniques.  Fortunately, there are methods for turning an ODE into a form in which we can use these methods."
   ]
  },
  {
   "cell_type": "markdown",
   "metadata": {},
   "source": [
    "[Back to the top](#In-this-lesson)"
   ]
  },
  {
   "cell_type": "markdown",
   "metadata": {},
   "source": [
    "## A new technique"
   ]
  },
  {
   "cell_type": "markdown",
   "metadata": {},
   "source": [
    "So let's look at one of these through the use of an example.  Here is our ODE:\n",
    "$$ \\frac{dy}{dt} = {\\left( t + y + 3 \\right)}^{2} $$"
   ]
  },
  {
   "cell_type": "markdown",
   "metadata": {},
   "source": [
    "We call this technique **substitution**.  Obviously, we will substitute $ t + y + 3 $.  Here we go:\n",
    "$$ v = t + y + 3 \\quad \\left[ \\dots 1 \\right] \\\\ y = v - t - 3 \\\\ \\frac{dy}{dt} = \\frac{dv}{dt} - 1 \\quad \\left[ \\dots 2 \\right] $$"
   ]
  },
  {
   "cell_type": "markdown",
   "metadata": {},
   "source": [
    "If we substitute [...1] and [...2] back into our original problem we get the following:\n",
    "$$ \\frac{dv}{dt} - 1 = {v}^{2} \\\\ \\frac{dv}{dt} = {v}^{2} + 1 $$\n",
    "This is a separable equation which we can solve:\n",
    "$$ \\frac { dv }{ dt } ={ v }^{ 2 }+1\\\\ \\frac { 1 }{ { v }^{ 2 }+1 } dv=dt\\\\ \\int { \\frac { 1 }{ { v }^{ 2 }+1 }  } dv=\\int {  } dt\\\\ v=\\tan { \\left( \\theta  \\right)  } \\quad \\dots \\left[ 1 \\right] \\\\ \\theta =\\tan ^{ -1 }{ \\left( v \\right)  } \\\\ \\frac { dv }{ d\\theta  } =\\sec ^{ 2 }{ \\left( \\theta  \\right)  } \\\\ dv=\\sec ^{ 2 }{ \\left( \\theta  \\right)  } d\\theta \\\\ \\int { \\frac { \\sec ^{ 2 }{ \\left( \\theta  \\right)  }  }{ \\tan ^{ 2 }{ \\left( \\theta  \\right)  } +1 }  } d\\theta =t+c\\quad \\dots \\left[ 2 \\right] \\\\ \\int {  } d\\theta =t+c\\\\ \\theta =t+c\\\\ \\tan ^{ -1 }{ \\left( v \\right)  } =t+c\\\\ v =\\tan { \\left( t+c \\right)  }  $$"
   ]
  },
  {
   "cell_type": "markdown",
   "metadata": {},
   "source": [
    "Here we made use of trigonometric substitutions [...1] and a trigonometric identity [...2].  If we replace our original substitution we get:\n",
    "$$ t+y+3=\\tan { \\left( t+c \\right)  } \\\\ y\\left( t \\right) =\\tan { \\left( t+c \\right)  } -t-3 $$"
   ]
  },
  {
   "cell_type": "markdown",
   "metadata": {},
   "source": [
    "In `sympy` we will get a solution as a series expansion (something we will do later in the course):"
   ]
  },
  {
   "cell_type": "code",
   "execution_count": 5,
   "metadata": {
    "collapsed": true
   },
   "outputs": [],
   "source": [
    "# Creating a mathematical symbol t and a mathematical function y\n",
    "t = symbols(\"t\")\n",
    "y = Function(\"y\")"
   ]
  },
  {
   "cell_type": "code",
   "execution_count": 6,
   "metadata": {
    "collapsed": false
   },
   "outputs": [
    {
     "data": {
      "text/latex": [
       "$$- \\left(t + y{\\left (t \\right )} + 3\\right)^{2} + \\frac{d}{d t} y{\\left (t \\right )}$$"
      ],
      "text/plain": [
       "                2   d       \n",
       "- (t + y(t) + 3)  + ──(y(t))\n",
       "                    dt      "
      ]
     },
     "execution_count": 6,
     "metadata": {},
     "output_type": "execute_result"
    }
   ],
   "source": [
    "ex = y(t).diff(t) - (t + y(t) + 3)**2\n",
    "ex"
   ]
  },
  {
   "cell_type": "code",
   "execution_count": 7,
   "metadata": {
    "collapsed": false
   },
   "outputs": [
    {
     "data": {
      "text/latex": [
       "$$y{\\left (t \\right )} = C_{1} + C_{1} t + \\frac{C_{1} t^{2}}{2} \\left(C_{1} + 10\\right) + \\frac{2 C_{1}}{3} t^{3} + \\frac{C_{1} t^{4}}{24} + \\frac{C_{1} t^{5}}{120} \\left(C_{1} + 1\\right) + \\mathcal{O}\\left(t^{6}\\right)$$"
      ],
      "text/plain": [
       "                       2                   3       4       5                 \n",
       "                   C₁⋅t ⋅(C₁ + 10)   2⋅C₁⋅t    C₁⋅t    C₁⋅t ⋅(C₁ + 1)    ⎛ 6⎞\n",
       "y(t) = C₁ + C₁⋅t + ─────────────── + ─────── + ───── + ────────────── + O⎝t ⎠\n",
       "                          2             3        24         120              "
      ]
     },
     "execution_count": 7,
     "metadata": {},
     "output_type": "execute_result"
    }
   ],
   "source": [
    "dsolve(ex)"
   ]
  },
  {
   "cell_type": "markdown",
   "metadata": {},
   "source": [
    "Let's review what we did here.  We introduced a new variable, $ v $, such that $ y $ became a function, $ \\beta \\left( t, v \\right) $.  That means we had the following:\n",
    "$$ \\frac{dy}{dt} = \\frac { \\partial \\beta  }{ \\partial t } \\frac { dt }{ dt } +\\frac { \\partial \\beta  }{ \\partial v } \\frac { dv }{ dt }  $$"
   ]
  },
  {
   "cell_type": "markdown",
   "metadata": {},
   "source": [
    "[Back to the top](#In-this-lesson)"
   ]
  },
  {
   "cell_type": "markdown",
   "metadata": {},
   "source": [
    "## Homogeneous equations"
   ]
  },
  {
   "cell_type": "markdown",
   "metadata": {},
   "source": [
    "We have seen one definition of the word *homogeneous* equation.  Some texts, though, calssify **homogeneous** ODE's as those of the form:\n",
    "$$ \\frac{dy}{dt}=F\\left( \\frac{y}{t} \\right) $$"
   ]
  },
  {
   "cell_type": "markdown",
   "metadata": {},
   "source": [
    "With the substitution technique we learned about above these can easily be transformed into separable equations:\n",
    "$$ v=\\frac { y }{ t } \\\\ y=vt\\\\ \\frac { dy }{ dt } =\\frac { dv }{ dt } t+v\\\\ \\therefore t\\frac { dv }{ dt } +v=F\\left( v \\right) \\\\ t\\frac { dv }{ dt } =F\\left( v \\right) -v $$"
   ]
  },
  {
   "cell_type": "code",
   "execution_count": null,
   "metadata": {
    "collapsed": true
   },
   "outputs": [],
   "source": []
  }
 ],
 "metadata": {
  "kernelspec": {
   "display_name": "Python 3",
   "language": "python",
   "name": "python3"
  },
  "language_info": {
   "codemirror_mode": {
    "name": "ipython",
    "version": 3
   },
   "file_extension": ".py",
   "mimetype": "text/x-python",
   "name": "python",
   "nbconvert_exporter": "python",
   "pygments_lexer": "ipython3",
   "version": "3.5.1"
  }
 },
 "nbformat": 4,
 "nbformat_minor": 0
}
